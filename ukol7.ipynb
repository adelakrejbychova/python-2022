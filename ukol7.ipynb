{
 "cells": [
  {
   "cell_type": "markdown",
   "metadata": {},
   "source": [
    "# Úkol 7 "
   ]
  },
  {
   "cell_type": "code",
   "execution_count": 12,
   "metadata": {},
   "outputs": [],
   "source": [
    "from datetime import datetime"
   ]
  },
  {
   "cell_type": "markdown",
   "metadata": {},
   "source": [
    "#### Vstup uživatele a převedení na požadovaný formát"
   ]
  },
  {
   "cell_type": "code",
   "execution_count": 13,
   "metadata": {},
   "outputs": [
    {
     "name": "stdout",
     "output_type": "stream",
     "text": [
      "Na jaký den byste chtěl/a koupit představení? 21.7.2021\n"
     ]
    }
   ],
   "source": [
    "vstup_uzivatele_datum = input('Na jaký den byste chtěl/a koupit představení? ')\n",
    "datum = datetime.strptime(vstup_uzivatele_datum,\"%d.%m.%Y\")\n",
    "print(f\"Na jaký den byste chtěl/a koupit představení? {vstup_uzivatele_datum}\")"
   ]
  },
  {
   "cell_type": "markdown",
   "metadata": {},
   "source": [
    "#### Vydefinování hlavní a vedlejší sezóny"
   ]
  },
  {
   "cell_type": "code",
   "execution_count": 14,
   "metadata": {},
   "outputs": [],
   "source": [
    "start_den_hlavni = datetime(2021,7,1)\n",
    "konec_den_hlavni = datetime(2021,8,10)\n",
    "start_den_vedlejsi = datetime(2021,8,11)\n",
    "konec_den_vedlejsi = datetime(2021,8,31)"
   ]
  },
  {
   "cell_type": "markdown",
   "metadata": {},
   "source": [
    "#### Oveření data uživatele, zadání počtu lístků uživatelem a spočítání celkové ceny"
   ]
  },
  {
   "cell_type": "code",
   "execution_count": 15,
   "metadata": {},
   "outputs": [
    {
     "name": "stdout",
     "output_type": "stream",
     "text": [
      "Kolik lístků chcete koupit? 10 ks\n",
      "Cena vašich vstupenek je 2500 Kč. \n"
     ]
    }
   ],
   "source": [
    "if start_den_hlavni <= datum <= konec_den_vedlejsi:\n",
    "    if start_den_hlavni <= datum <= konec_den_hlavni:\n",
    "        cena = 250\n",
    "    else:\n",
    "        cena = 180\n",
    "    vstup_uzivatele_pocet = int(input('Kolik lístků chcete koupit? '))\n",
    "    print(f'Kolik lístků chcete koupit? {vstup_uzivatele_pocet} ks')\n",
    "    celkova_cena = cena * vstup_uzivatele_pocet \n",
    "    print(f'Cena vašich vstupenek je {celkova_cena} Kč. ')\n",
    "else:\n",
    "    print('V této době je kino bohužel zavřené.')"
   ]
  }
 ],
 "metadata": {
  "kernelspec": {
   "display_name": "Python 3.9.10 64-bit",
   "language": "python",
   "name": "python3"
  },
  "language_info": {
   "codemirror_mode": {
    "name": "ipython",
    "version": 3
   },
   "file_extension": ".py",
   "mimetype": "text/x-python",
   "name": "python",
   "nbconvert_exporter": "python",
   "pygments_lexer": "ipython3",
   "version": "3.9.10"
  },
  "orig_nbformat": 4,
  "vscode": {
   "interpreter": {
    "hash": "eabca979b0553fa6d87e9a00c352604d3b703d4afc9641643dd42376492b80f6"
   }
  }
 },
 "nbformat": 4,
 "nbformat_minor": 2
}
